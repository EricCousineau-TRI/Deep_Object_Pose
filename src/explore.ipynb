{
 "cells": [
  {
   "cell_type": "code",
   "execution_count": null,
   "metadata": {},
   "outputs": [],
   "source": [
    "from __future__ import print_function, division\n",
    "from os.path import dirname, realpath, join\n",
    "import os\n",
    "import sys\n",
    "\n",
    "import numpy as np\n",
    "import cv2\n",
    "import yaml\n",
    "import pandas as pd\n",
    "\n",
    "import torchvision.transforms as transforms\n",
    "import matplotlib.pyplot as plt\n",
    "\n",
    "from PIL import ImageDraw"
   ]
  },
  {
   "cell_type": "code",
   "execution_count": null,
   "metadata": {},
   "outputs": [],
   "source": [
    "class Canvas:\n",
    "    def __init__(self, draw):\n",
    "        self.draw = draw\n",
    "    \n",
    "    def DrawLine(self, point1, point2, lineColor, lineWidth):\n",
    "        '''Draws line on image'''\n",
    "        if not point1 is None and point2 is not None:\n",
    "            self.draw.line([point1,point2], fill=lineColor, width=lineWidth)\n",
    "\n",
    "    def DrawDot(self, point, pointColor, pointRadius):\n",
    "        '''Draws dot (filled circle) on image'''\n",
    "        if point is not None:\n",
    "            xy = [\n",
    "                point[0]-pointRadius, \n",
    "                point[1]-pointRadius, \n",
    "                point[0]+pointRadius, \n",
    "                point[1]+pointRadius\n",
    "            ]\n",
    "            self.draw.ellipse(xy, \n",
    "                fill=pointColor, \n",
    "                outline=pointColor\n",
    "            )\n",
    "\n",
    "    def DrawCube(self, points, color=(255, 0, 0)):\n",
    "        '''\n",
    "        Draws cube with a thick solid line across \n",
    "        the front top edge and an X on the top face.\n",
    "        '''\n",
    "\n",
    "        lineWidthForDrawing = 2\n",
    "        \n",
    "        points = [tuple(pt) for pt in points]\n",
    "\n",
    "        # draw front\n",
    "        self.DrawLine(points[0], points[1], color, lineWidthForDrawing)\n",
    "        self.DrawLine(points[1], points[2], color, lineWidthForDrawing)\n",
    "        self.DrawLine(points[3], points[2], color, lineWidthForDrawing)\n",
    "        self.DrawLine(points[3], points[0], color, lineWidthForDrawing)\n",
    "\n",
    "        # draw back\n",
    "        self.DrawLine(points[4], points[5], color, lineWidthForDrawing)\n",
    "        self.DrawLine(points[6], points[5], color, lineWidthForDrawing)\n",
    "        self.DrawLine(points[6], points[7], color, lineWidthForDrawing)\n",
    "        self.DrawLine(points[4], points[7], color, lineWidthForDrawing)\n",
    "\n",
    "        # draw sides\n",
    "        self.DrawLine(points[0], points[4], color, lineWidthForDrawing)\n",
    "        self.DrawLine(points[7], points[3], color, lineWidthForDrawing)\n",
    "        self.DrawLine(points[5], points[1], color, lineWidthForDrawing)\n",
    "        self.DrawLine(points[2], points[6], color, lineWidthForDrawing)\n",
    "\n",
    "        # draw dots\n",
    "        self.DrawDot(points[0], pointColor=color, pointRadius = 4)\n",
    "        self.DrawDot(points[1], pointColor=color, pointRadius = 4)\n",
    "\n",
    "        # draw x on the top \n",
    "        self.DrawLine(points[0], points[5], color, lineWidthForDrawing)\n",
    "        self.DrawLine(points[1], points[4], color, lineWidthForDrawing)"
   ]
  },
  {
   "cell_type": "code",
   "execution_count": null,
   "metadata": {},
   "outputs": [],
   "source": [
    "cur = os.getcwd()"
   ]
  },
  {
   "cell_type": "code",
   "execution_count": null,
   "metadata": {},
   "outputs": [],
   "source": [
    "sys.path.append(join(cur, \"training\"))\n",
    "sys.path.append(join(cur))"
   ]
  },
  {
   "cell_type": "code",
   "execution_count": null,
   "metadata": {},
   "outputs": [],
   "source": [
    "from train import MultipleVertexJson\n",
    "from validate import Comparison, Pose, load_model_cm, get_mesh_file, add_metric, get_dataset\n",
    "from cuboid import Cuboid3d"
   ]
  },
  {
   "cell_type": "code",
   "execution_count": null,
   "metadata": {},
   "outputs": [],
   "source": [
    "model = \"003_cracker_box\"\n",
    "model_cm = load_model_cm(get_mesh_file(model))\n",
    "def pose_error(X_est, X_gt):\n",
    "    return add_metric(X_est.R, X_est.t_cm, X_gt.R, X_gt.t_cm, model_cm)"
   ]
  },
  {
   "cell_type": "code",
   "execution_count": null,
   "metadata": {},
   "outputs": [],
   "source": [
    "import cPickle as pickle"
   ]
  },
  {
   "cell_type": "code",
   "execution_count": null,
   "metadata": {},
   "outputs": [],
   "source": [
    "with open(\"../comp_list.pkl\") as f:\n",
    "    comp_list = pickle.load(f)"
   ]
  },
  {
   "cell_type": "code",
   "execution_count": null,
   "metadata": {},
   "outputs": [],
   "source": [
    "from tqdm import tqdm_notebook"
   ]
  },
  {
   "cell_type": "code",
   "execution_count": null,
   "metadata": {},
   "outputs": [],
   "source": [
    "def compute(error_threshold, skip_no_gt=True):\n",
    "    metrics = []\n",
    "    for i, comp in enumerate(comp_list):\n",
    "        if comp.num_gt == 0 and skip_no_gt:\n",
    "            continue\n",
    "        metrics.append(comp.compute_metrics(pose_error, error_threshold))\n",
    "    metrics = np.hstack(metrics)\n",
    "    return pd.DataFrame(metrics).mean()"
   ]
  },
  {
   "cell_type": "code",
   "execution_count": null,
   "metadata": {
    "scrolled": true
   },
   "outputs": [],
   "source": [
    "ets = []\n",
    "metrics = []\n",
    "for error_threshold in tqdm_notebook(np.linspace(0, 10, 100)):\n",
    "    ets.append(error_threshold / 100)\n",
    "    metrics.append(compute(error_threshold))\n",
    "metrics = pd.DataFrame(metrics)"
   ]
  },
  {
   "cell_type": "code",
   "execution_count": null,
   "metadata": {},
   "outputs": [],
   "source": [
    "plt.plot(ets, metrics[\"precision\"])\n",
    "plt.xlabel(\"ADD Metric (m)\")\n",
    "plt.ylabel(\"F1 Score\")\n",
    "plt.title(model)\n",
    "plt.xlim([0, 0.1])\n",
    "plt.ylim([0, 1])\n",
    "plt.savefig(\"/home/eacousineau/proj/tri/proj/perception/plots/simple_stuff.png\")"
   ]
  },
  {
   "cell_type": "code",
   "execution_count": null,
   "metadata": {},
   "outputs": [],
   "source": [
    "dataset = get_dataset(model)"
   ]
  },
  {
   "cell_type": "code",
   "execution_count": null,
   "metadata": {},
   "outputs": [],
   "source": [
    "def get_cube(v):\n",
    "    v_min = np.min(v, axis=0)\n",
    "    v_max = np.max(v, axis=0)\n",
    "    v_ex = v_max - v_min\n",
    "    v_c = (v_max + v_min) / 2\n",
    "    return Cuboid3d(size3d=v_ex, center_location=v_c)\n",
    "\n",
    "def project_2d(K, X_CO, v_O_cm):\n",
    "    assert v_O_cm.shape[0] == 3\n",
    "    # Meh. Too lazy to figure out how to get rvec for cv2.\n",
    "    v_C_cm = np.dot(X_CO.R, v_O_cm) + X_CO.t_cm.reshape((-1, 1))\n",
    "    v_C_n = v_C_cm / v_C_cm[[2], :]\n",
    "    return np.dot(K, v_C_n)[:2]\n",
    "\n",
    "def cube_project_2d(cube, K, X_CO):\n",
    "    v = np.array(cube.get_vertices())\n",
    "    return project_2d(K, X_CO, v.T).T"
   ]
  },
  {
   "cell_type": "code",
   "execution_count": null,
   "metadata": {},
   "outputs": [],
   "source": [
    "model_cube = get_cube(model_cm[\"pts\"])"
   ]
  },
  {
   "cell_type": "code",
   "execution_count": null,
   "metadata": {},
   "outputs": [],
   "source": [
    "for i, comp in enumerate(comp_list):\n",
    "    if comp.num_gt > 0 and comp.num_est > 0:\n",
    "        break\n",
    "else:\n",
    "    assert False\n",
    "print(i)"
   ]
  },
  {
   "cell_type": "code",
   "execution_count": null,
   "metadata": {},
   "outputs": [],
   "source": [
    "target = dataset[i]\n",
    "X_CO_est = comp.pose_est_list[0]\n",
    "X_CO_gt = comp.pose_gt_list[0]\n",
    "\n",
    "K = target[\"matrix_camera\"]\n",
    "img = target[\"img\"]\n",
    "c = Canvas(ImageDraw.Draw(img))"
   ]
  },
  {
   "cell_type": "code",
   "execution_count": null,
   "metadata": {},
   "outputs": [],
   "source": [
    "# points_gt = target[\"pointsBelief\"]\n",
    "points_gt = cube_project_2d(model_cube, K, X_CO_gt)\n",
    "points_est = cube_project_2d(model_cube, K, X_CO_est)"
   ]
  },
  {
   "cell_type": "code",
   "execution_count": null,
   "metadata": {},
   "outputs": [],
   "source": [
    "c.DrawCube(points_gt, (0, 255, 0))\n",
    "c.DrawCube(points_est, (255, 0, 0))\n",
    "#c.DrawLine(points[0], points[1], (255, 0, 0), 2)"
   ]
  },
  {
   "cell_type": "code",
   "execution_count": null,
   "metadata": {},
   "outputs": [],
   "source": [
    "img"
   ]
  },
  {
   "cell_type": "code",
   "execution_count": null,
   "metadata": {},
   "outputs": [],
   "source": []
  },
  {
   "cell_type": "code",
   "execution_count": null,
   "metadata": {},
   "outputs": [],
   "source": [
    "\n"
   ]
  }
 ],
 "metadata": {
  "kernelspec": {
   "display_name": "Python 2",
   "language": "python",
   "name": "python2"
  },
  "language_info": {
   "codemirror_mode": {
    "name": "ipython",
    "version": 2
   },
   "file_extension": ".py",
   "mimetype": "text/x-python",
   "name": "python",
   "nbconvert_exporter": "python",
   "pygments_lexer": "ipython2",
   "version": "2.7.15rc1"
  }
 },
 "nbformat": 4,
 "nbformat_minor": 2
}
